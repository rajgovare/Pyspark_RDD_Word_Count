{
  "nbformat": 4,
  "nbformat_minor": 0,
  "metadata": {
    "colab": {
      "provenance": []
    },
    "kernelspec": {
      "name": "python3",
      "display_name": "Python 3"
    },
    "language_info": {
      "name": "python"
    }
  },
  "cells": [
    {
      "cell_type": "markdown",
      "source": [
        "**This program will demonstrate creating an RDD from a text dataset, performing transformations to\n",
        "count the occurences of each word and actions to collect and print the results.**"
      ],
      "metadata": {
        "id": "kG2VBpa8oQka"
      }
    },
    {
      "cell_type": "code",
      "execution_count": null,
      "metadata": {
        "colab": {
          "base_uri": "https://localhost:8080/"
        },
        "id": "9U0uFW8qYWkp",
        "outputId": "b2da801d-9a86-4b7a-ebf7-85a928c193dd"
      },
      "outputs": [
        {
          "output_type": "stream",
          "name": "stdout",
          "text": [
            "Requirement already satisfied: PySpark in /usr/local/lib/python3.10/dist-packages (3.5.3)\n",
            "Requirement already satisfied: py4j==0.10.9.7 in /usr/local/lib/python3.10/dist-packages (from PySpark) (0.10.9.7)\n"
          ]
        }
      ],
      "source": [
        "!pip install PySpark\n"
      ]
    },
    {
      "cell_type": "code",
      "source": [
        "from pyspark import SparkContext, SparkConf"
      ],
      "metadata": {
        "id": "P_pBFDXfhA4t"
      },
      "execution_count": null,
      "outputs": []
    },
    {
      "cell_type": "code",
      "source": [
        "# Initialize spark Context"
      ],
      "metadata": {
        "id": "MU1Nv0HthA6V"
      },
      "execution_count": null,
      "outputs": []
    },
    {
      "cell_type": "code",
      "source": [
        "conf = SparkConf().setAppName(\"PySparkWordCount\").setMaster(\"local\")\n",
        "sc = SparkContext(conf=conf)"
      ],
      "metadata": {
        "id": "QbZH8hTAhEKl"
      },
      "execution_count": null,
      "outputs": []
    },
    {
      "cell_type": "code",
      "source": [
        "data = [\"hello world\",\"hello spark\",\"hello RDD\",\"hello pySpark\",\"hello Raj\"]"
      ],
      "metadata": {
        "id": "GX4jqS9-iZv3"
      },
      "execution_count": null,
      "outputs": []
    },
    {
      "cell_type": "code",
      "source": [
        "rdd = sc.parallelize(data)"
      ],
      "metadata": {
        "id": "ySFNlV6NiZyV"
      },
      "execution_count": null,
      "outputs": []
    },
    {
      "cell_type": "code",
      "source": [
        "word_rdd = rdd.flatMap(lambda sentence : sentence.split(\" \"))"
      ],
      "metadata": {
        "id": "0wxKHuBliZ1N"
      },
      "execution_count": null,
      "outputs": []
    },
    {
      "cell_type": "code",
      "source": [
        "word_pairs_rdd = word_rdd.map(lambda word : (word,1))"
      ],
      "metadata": {
        "id": "ja4tuJ5hjWpO"
      },
      "execution_count": null,
      "outputs": []
    },
    {
      "cell_type": "code",
      "source": [
        "word_count_rdd = word_pairs_rdd.reduceByKey(lambda a,b : a + b)"
      ],
      "metadata": {
        "id": "SS3z_gWMjWr9"
      },
      "execution_count": null,
      "outputs": []
    },
    {
      "cell_type": "code",
      "source": [
        "word_count = word_count_rdd.collect()\n",
        "word_count"
      ],
      "metadata": {
        "id": "6uuSFRqSjIY-",
        "colab": {
          "base_uri": "https://localhost:8080/"
        },
        "outputId": "57de3b9e-7666-43c1-bd26-a920b979066b"
      },
      "execution_count": null,
      "outputs": [
        {
          "output_type": "execute_result",
          "data": {
            "text/plain": [
              "[('hello', 5),\n",
              " ('world', 1),\n",
              " ('spark', 1),\n",
              " ('RDD', 1),\n",
              " ('pySpark', 1),\n",
              " ('Raj', 1)]"
            ]
          },
          "metadata": {},
          "execution_count": 47
        }
      ]
    },
    {
      "cell_type": "code",
      "source": [
        "for word, count in word_count:\n",
        "  print(f\"{word} : {count}\")"
      ],
      "metadata": {
        "colab": {
          "base_uri": "https://localhost:8080/"
        },
        "id": "-cwEMhRrjIb9",
        "outputId": "15388cb1-8b8d-4168-e39f-60499ac11d87"
      },
      "execution_count": null,
      "outputs": [
        {
          "output_type": "stream",
          "name": "stdout",
          "text": [
            "hello : 5\n",
            "world : 1\n",
            "spark : 1\n",
            "RDD : 1\n",
            "pySpark : 1\n",
            "Raj : 1\n"
          ]
        }
      ]
    },
    {
      "cell_type": "code",
      "source": [
        "sc.stop()"
      ],
      "metadata": {
        "id": "ERNJge5Xk1I_"
      },
      "execution_count": null,
      "outputs": []
    }
  ]
}